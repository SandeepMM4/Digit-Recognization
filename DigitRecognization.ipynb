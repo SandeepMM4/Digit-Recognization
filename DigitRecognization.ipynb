{
  "nbformat": 4,
  "nbformat_minor": 0,
  "metadata": {
    "colab": {
      "name": "DigitRecognization.ipynb",
      "provenance": []
    },
    "kernelspec": {
      "name": "python3",
      "display_name": "Python 3"
    }
  },
  "cells": [
    {
      "cell_type": "code",
      "metadata": {
        "id": "3pKdlHTUXe-u",
        "colab_type": "code",
        "colab": {}
      },
      "source": [
        "import matplotlib.pyplot as plt\n",
        "import matplotlib.cm as cm\n",
        "from sklearn import datasets, svm,metrics\n",
        "from sklearn.metrics import accuracy_score"
      ],
      "execution_count": 23,
      "outputs": []
    },
    {
      "cell_type": "code",
      "metadata": {
        "id": "HWrDaQcpYB2U",
        "colab_type": "code",
        "colab": {
          "base_uri": "https://localhost:8080/",
          "height": 281
        },
        "outputId": "614dd86b-ee78-40b3-fd34-19706e16b359"
      },
      "source": [
        "digits=datasets.load_digits()\n",
        "images_and_labels=list(zip(digits.images, digits.target))\n",
        "for index, (image,label) in enumerate(images_and_labels[:6]):\n",
        "  plt.subplot(2,3,index+1)\n",
        "  plt.imshow(image, cmap=plt.cm.gray_r, interpolation='nearest')\n",
        "  plt.title( 'Target:%i' %label  )\n",
        "plt.show()\n"
      ],
      "execution_count": 30,
      "outputs": [
        {
          "output_type": "display_data",
          "data": {
            "image/png": "[encoded data removed]",
            "text/plain": [
              "<Figure size 432x288 with 6 Axes>"
            ]
          },
          "metadata": {
            "tags": [],
            "needs_background": "light"
          }
        }
      ]
    },
    {
      "cell_type": "code",
      "metadata": {
        "id": "AidFqCbSYNh-",
        "colab_type": "code",
        "colab": {
          "base_uri": "https://localhost:8080/",
          "height": 228
        },
        "outputId": "8527debf-6d52-4440-ddba-17163b954ba2"
      },
      "source": [
        "n_samples=len(digits.images)\n",
        "data=digits.images.reshape((n_samples,-1))\n",
        "classifier=svm.SVC(gamma=0.001)\n",
        "trainTestSplit=int(n_samples*0.75)\n",
        "classifier.fit(data[:trainTestSplit],digits.target[:trainTestSplit])\n",
        "expected=digits.target[trainTestSplit:]\n",
        "predicted=classifier.predict(data[trainTestSplit:])\n",
        "print('confusion matrix:\\n%s'  %metrics.confusion_matrix(expected,predicted))\n",
        "print(accuracy_score(expected,predicted))"
      ],
      "execution_count": 31,
      "outputs": [
        {
          "output_type": "stream",
          "text": [
            "confusion matrix:\n",
            "[[42  0  0  0  1  0  0  0  0  0]\n",
            " [ 0 46  0  0  0  0  0  0  0  0]\n",
            " [ 0  0 43  0  0  0  0  0  0  0]\n",
            " [ 0  0  0 40  0  2  0  1  4  0]\n",
            " [ 0  0  0  0 45  0  0  0  1  2]\n",
            " [ 0  0  0  0  0 44  1  0  0  0]\n",
            " [ 0  0  0  0  0  0 47  0  0  0]\n",
            " [ 0  0  0  0  0  0  0 45  0  0]\n",
            " [ 0  1  0  0  0  0  0  0 40  0]\n",
            " [ 0  0  0  1  0  1  0  0  0 43]]\n",
            "0.9666666666666667\n"
          ],
          "name": "stdout"
        }
      ]
    },
    {
      "cell_type": "code",
      "metadata": {
        "id": "od71hcXRYSkx",
        "colab_type": "code",
        "colab": {
          "base_uri": "https://localhost:8080/",
          "height": 282
        },
        "outputId": "d4489d85-f57d-4e1b-ddcb-f99d6a3b942e"
      },
      "source": [
        "plt.imshow(digits.images[-1],cmap=plt.cm.gray_r, interpolation='nearest')\n",
        "print('prediction for test image:',classifier.predict(data[-1].reshape(1,-1)))"
      ],
      "execution_count": 32,
      "outputs": [
        {
          "output_type": "stream",
          "text": [
            "prediction for test image: [8]\n"
          ],
          "name": "stdout"
        },
        {
          "output_type": "display_data",
          "data": {
            "image/png": "[encoded data removed]",
            "text/plain": [
              "<Figure size 432x288 with 1 Axes>"
            ]
          },
          "metadata": {
            "tags": [],
            "needs_background": "light"
          }
        }
      ]
    },
    {
      "cell_type": "code",
      "metadata": {
        "id": "4kuJNayZh1zf",
        "colab_type": "code",
        "colab": {}
      },
      "source": [
        ""
      ],
      "execution_count": null,
      "outputs": []
    }
  ]
}